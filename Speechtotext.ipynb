{
 "cells": [
  {
   "cell_type": "markdown",
   "metadata": {},
   "source": [
    "FFmpeg installation from the terminal using the following command is required. \n",
    " \n",
    "brew install ffmpeg"
   ]
  },
  {
   "cell_type": "code",
   "execution_count": 1,
   "metadata": {},
   "outputs": [
    {
     "name": "stdout",
     "output_type": "stream",
     "text": [
      "Requirement already satisfied: SpeechRecognition in ./opt/anaconda3/lib/python3.8/site-packages (3.10.0)\r\n",
      "Requirement already satisfied: pydub in ./opt/anaconda3/lib/python3.8/site-packages (0.25.1)\r\n",
      "Requirement already satisfied: requests>=2.26.0 in ./opt/anaconda3/lib/python3.8/site-packages (from SpeechRecognition) (2.31.0)\r\n",
      "Requirement already satisfied: charset-normalizer<4,>=2 in ./opt/anaconda3/lib/python3.8/site-packages (from requests>=2.26.0->SpeechRecognition) (3.3.2)\r\n",
      "Requirement already satisfied: certifi>=2017.4.17 in ./opt/anaconda3/lib/python3.8/site-packages (from requests>=2.26.0->SpeechRecognition) (2020.6.20)\r\n",
      "Requirement already satisfied: idna<4,>=2.5 in ./opt/anaconda3/lib/python3.8/site-packages (from requests>=2.26.0->SpeechRecognition) (2.10)\r\n",
      "Requirement already satisfied: urllib3<3,>=1.21.1 in ./opt/anaconda3/lib/python3.8/site-packages (from requests>=2.26.0->SpeechRecognition) (1.25.11)\r\n"
     ]
    }
   ],
   "source": [
    "!pip install SpeechRecognition pydub"
   ]
  },
  {
   "cell_type": "code",
   "execution_count": null,
   "metadata": {},
   "outputs": [],
   "source": [
    "from pydub import AudioSegment\n",
    "speech = AudioSegment.from_file(\"/Downloads/New Recording 8.m4a\", format=\"m4a\")\n",
    "speech.export(\"/Downloads/New Recording 8.wav\", format=\"wav\")"
   ]
  },
  {
   "cell_type": "code",
   "execution_count": 4,
   "metadata": {},
   "outputs": [
    {
     "name": "stdout",
     "output_type": "stream",
     "text": [
      "bekijk de volgende twee foto's welke student beschrijf ik student heeft een donkerblauwe spijkerbroek en een geel t-shirt Weet je welke student ik beschrijf maak nu zelf een opname en beschrijf wat je aan hebt bijvoorbeeld Ik draag op dit moment een lichtblauwe spijkerbroek en twee grijze sokken Ik draag ook een wit t-shirt een wit overhemd en een groene trui Ik vind groen erg mooie kleur\n"
     ]
    }
   ],
   "source": [
    "import speech_recognition as sr\n",
    "\n",
    "recognizer = sr.Recognizer()\n",
    "with sr.AudioFile(\"/Downloads/New Recording 8.wav\") as source:\n",
    "    audio_data = recognizer.record(source)\n",
    "\n",
    "# Using Google Speech Recognition\n",
    "try:\n",
    "    text = recognizer.recognize_google(audio_data, language=\"nl-NL\")  # language NL\n",
    "    print(text)\n",
    "except sr.UnknownValueError:\n",
    "    print(\"Google Speech Recognition error\")\n",
    "except sr.RequestError as e:\n",
    "    print(f\"No answer from Google Speech Recognition; {e}\")\n"
   ]
  }
 ],
 "metadata": {
  "kernelspec": {
   "display_name": "Python 3",
   "language": "python",
   "name": "python3"
  },
  "language_info": {
   "codemirror_mode": {
    "name": "ipython",
    "version": 3
   },
   "file_extension": ".py",
   "mimetype": "text/x-python",
   "name": "python",
   "nbconvert_exporter": "python",
   "pygments_lexer": "ipython3",
   "version": "3.8.5"
  }
 },
 "nbformat": 4,
 "nbformat_minor": 4
}
